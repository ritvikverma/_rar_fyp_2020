{
 "metadata": {
  "language_info": {
   "codemirror_mode": {
    "name": "ipython",
    "version": 3
   },
   "file_extension": ".py",
   "mimetype": "text/x-python",
   "name": "python",
   "nbconvert_exporter": "python",
   "pygments_lexer": "ipython3",
   "version": "3.9.1-final"
  },
  "orig_nbformat": 2,
  "kernelspec": {
   "name": "python3",
   "display_name": "Python 3.9.1 64-bit ('fyp': venv)",
   "metadata": {
    "interpreter": {
     "hash": "edadba7c9df7856c95db1d15750a69a208e6cf3da11243f38bd86d8892c27fe4"
    }
   }
  }
 },
 "nbformat": 4,
 "nbformat_minor": 2,
 "cells": [
  {
   "cell_type": "code",
   "execution_count": 9,
   "metadata": {},
   "outputs": [],
   "source": [
    "import os\n",
    "import pandas as pd\n",
    "import numpy as np\n",
    "from sklearn import preprocessing\n",
    "from sklearn.compose import ColumnTransformer\n",
    "import torch \n",
    "import seaborn as sns\n",
    "import matplotlib.pyplot as plt\n",
    "directory = '../../SICP/daily'"
   ]
  },
  {
   "cell_type": "code",
   "execution_count": 14,
   "metadata": {},
   "outputs": [],
   "source": [
    "def read_csv(num_files = 10):\n",
    "    df = pd.DataFrame()\n",
    "    i = 0\n",
    "    try:\n",
    "        for filename in os.listdir(directory):\n",
    "            if num_files != -1 and i==num_files:\n",
    "                break\n",
    "            i += 1\n",
    "            new_df = pd.read_csv(os.path.join(directory,filename))\n",
    "            df=df.append(new_df)\n",
    "    except e:\n",
    "        print(e)\n",
    "    return df"
   ]
  },
  {
   "cell_type": "code",
   "execution_count": 15,
   "metadata": {},
   "outputs": [],
   "source": [
    "df = read_csv()"
   ]
  },
  {
   "cell_type": "code",
   "execution_count": 16,
   "metadata": {},
   "outputs": [],
   "source": [
    "df['destination_code_train'] = df['train'].str[0]\n",
    "df['timetable_code_train'] = df['train'].str[1]\n",
    "df['number_train'] = df['train'].str[2:]"
   ]
  },
  {
   "cell_type": "code",
   "execution_count": 17,
   "metadata": {},
   "outputs": [
    {
     "output_type": "execute_result",
     "data": {
      "text/plain": [
       "              act_arr_time station track train             act_dep_time  \\\n",
       "0  2019-12-31 13:07:19.804     LAT  6102  QA18  2019-12-31 13:07:41.533   \n",
       "1  2019-12-31 13:07:22.408     YMT    33  GA09  2019-12-31 13:07:46.115   \n",
       "2  2019-12-31 13:07:23.205     MOK    47  GA08  2019-12-31 13:08:44.685   \n",
       "3  2019-12-31 13:07:23.206     CHH    05  GA05  2019-12-31 13:07:39.541   \n",
       "4  2019-12-31 13:07:24.599     NTK    15  GA03  2019-12-31 13:07:44.123   \n",
       "\n",
       "   act_occupied_time  act_travelling_time   stop newinc  \\\n",
       "0             21.729                  7.0  False  False   \n",
       "1             23.707                  4.0  False  False   \n",
       "2             81.480                 63.0   True  False   \n",
       "3             16.335                  4.0  False  False   \n",
       "4             19.524                  8.0  False  False   \n",
       "\n",
       "   quantile_95_act_travelling_time  quantile_90_act_travelling_time  \\\n",
       "0                            False                            False   \n",
       "1                            False                            False   \n",
       "2                            False                            False   \n",
       "3                            False                            False   \n",
       "4                            False                            False   \n",
       "\n",
       "   quantile_95_act_occupied_time  quantile_90_act_occupied_time  \\\n",
       "0                          False                          False   \n",
       "1                          False                          False   \n",
       "2                          False                          False   \n",
       "3                          False                          False   \n",
       "4                          False                          False   \n",
       "\n",
       "   quantile_85_act_travelling_time all_quantile destination_code_train  \\\n",
       "0                            False        False                      Q   \n",
       "1                            False        False                      G   \n",
       "2                            False        False                      G   \n",
       "3                            False        False                      G   \n",
       "4                            False        False                      G   \n",
       "\n",
       "  timetable_code_train number_train  \n",
       "0                    A           18  \n",
       "1                    A           09  \n",
       "2                    A           08  \n",
       "3                    A           05  \n",
       "4                    A           03  "
      ],
      "text/html": "<div>\n<style scoped>\n    .dataframe tbody tr th:only-of-type {\n        vertical-align: middle;\n    }\n\n    .dataframe tbody tr th {\n        vertical-align: top;\n    }\n\n    .dataframe thead th {\n        text-align: right;\n    }\n</style>\n<table border=\"1\" class=\"dataframe\">\n  <thead>\n    <tr style=\"text-align: right;\">\n      <th></th>\n      <th>act_arr_time</th>\n      <th>station</th>\n      <th>track</th>\n      <th>train</th>\n      <th>act_dep_time</th>\n      <th>act_occupied_time</th>\n      <th>act_travelling_time</th>\n      <th>stop</th>\n      <th>newinc</th>\n      <th>quantile_95_act_travelling_time</th>\n      <th>quantile_90_act_travelling_time</th>\n      <th>quantile_95_act_occupied_time</th>\n      <th>quantile_90_act_occupied_time</th>\n      <th>quantile_85_act_travelling_time</th>\n      <th>all_quantile</th>\n      <th>destination_code_train</th>\n      <th>timetable_code_train</th>\n      <th>number_train</th>\n    </tr>\n  </thead>\n  <tbody>\n    <tr>\n      <th>0</th>\n      <td>2019-12-31 13:07:19.804</td>\n      <td>LAT</td>\n      <td>6102</td>\n      <td>QA18</td>\n      <td>2019-12-31 13:07:41.533</td>\n      <td>21.729</td>\n      <td>7.0</td>\n      <td>False</td>\n      <td>False</td>\n      <td>False</td>\n      <td>False</td>\n      <td>False</td>\n      <td>False</td>\n      <td>False</td>\n      <td>False</td>\n      <td>Q</td>\n      <td>A</td>\n      <td>18</td>\n    </tr>\n    <tr>\n      <th>1</th>\n      <td>2019-12-31 13:07:22.408</td>\n      <td>YMT</td>\n      <td>33</td>\n      <td>GA09</td>\n      <td>2019-12-31 13:07:46.115</td>\n      <td>23.707</td>\n      <td>4.0</td>\n      <td>False</td>\n      <td>False</td>\n      <td>False</td>\n      <td>False</td>\n      <td>False</td>\n      <td>False</td>\n      <td>False</td>\n      <td>False</td>\n      <td>G</td>\n      <td>A</td>\n      <td>09</td>\n    </tr>\n    <tr>\n      <th>2</th>\n      <td>2019-12-31 13:07:23.205</td>\n      <td>MOK</td>\n      <td>47</td>\n      <td>GA08</td>\n      <td>2019-12-31 13:08:44.685</td>\n      <td>81.480</td>\n      <td>63.0</td>\n      <td>True</td>\n      <td>False</td>\n      <td>False</td>\n      <td>False</td>\n      <td>False</td>\n      <td>False</td>\n      <td>False</td>\n      <td>False</td>\n      <td>G</td>\n      <td>A</td>\n      <td>08</td>\n    </tr>\n    <tr>\n      <th>3</th>\n      <td>2019-12-31 13:07:23.206</td>\n      <td>CHH</td>\n      <td>05</td>\n      <td>GA05</td>\n      <td>2019-12-31 13:07:39.541</td>\n      <td>16.335</td>\n      <td>4.0</td>\n      <td>False</td>\n      <td>False</td>\n      <td>False</td>\n      <td>False</td>\n      <td>False</td>\n      <td>False</td>\n      <td>False</td>\n      <td>False</td>\n      <td>G</td>\n      <td>A</td>\n      <td>05</td>\n    </tr>\n    <tr>\n      <th>4</th>\n      <td>2019-12-31 13:07:24.599</td>\n      <td>NTK</td>\n      <td>15</td>\n      <td>GA03</td>\n      <td>2019-12-31 13:07:44.123</td>\n      <td>19.524</td>\n      <td>8.0</td>\n      <td>False</td>\n      <td>False</td>\n      <td>False</td>\n      <td>False</td>\n      <td>False</td>\n      <td>False</td>\n      <td>False</td>\n      <td>False</td>\n      <td>G</td>\n      <td>A</td>\n      <td>03</td>\n    </tr>\n  </tbody>\n</table>\n</div>"
     },
     "metadata": {},
     "execution_count": 17
    }
   ],
   "source": [
    "df.head()"
   ]
  },
  {
   "cell_type": "code",
   "execution_count": 25,
   "metadata": {},
   "outputs": [],
   "source": [
    "test_df = df[(df[\"track\"] == \"6102\") & (df[\"station\"] == \"LAT\") & (df[\"quantile_85_act_travelling_time\"] == True)]"
   ]
  },
  {
   "cell_type": "code",
   "execution_count": 26,
   "metadata": {},
   "outputs": [
    {
     "output_type": "execute_result",
     "data": {
      "text/plain": [
       "Empty DataFrame\n",
       "Columns: [act_arr_time, station, track, train, act_dep_time, act_occupied_time, act_travelling_time, stop, newinc, quantile_95_act_travelling_time, quantile_90_act_travelling_time, quantile_95_act_occupied_time, quantile_90_act_occupied_time, quantile_85_act_travelling_time, all_quantile, destination_code_train, timetable_code_train, number_train]\n",
       "Index: []"
      ],
      "text/html": "<div>\n<style scoped>\n    .dataframe tbody tr th:only-of-type {\n        vertical-align: middle;\n    }\n\n    .dataframe tbody tr th {\n        vertical-align: top;\n    }\n\n    .dataframe thead th {\n        text-align: right;\n    }\n</style>\n<table border=\"1\" class=\"dataframe\">\n  <thead>\n    <tr style=\"text-align: right;\">\n      <th></th>\n      <th>act_arr_time</th>\n      <th>station</th>\n      <th>track</th>\n      <th>train</th>\n      <th>act_dep_time</th>\n      <th>act_occupied_time</th>\n      <th>act_travelling_time</th>\n      <th>stop</th>\n      <th>newinc</th>\n      <th>quantile_95_act_travelling_time</th>\n      <th>quantile_90_act_travelling_time</th>\n      <th>quantile_95_act_occupied_time</th>\n      <th>quantile_90_act_occupied_time</th>\n      <th>quantile_85_act_travelling_time</th>\n      <th>all_quantile</th>\n      <th>destination_code_train</th>\n      <th>timetable_code_train</th>\n      <th>number_train</th>\n    </tr>\n  </thead>\n  <tbody>\n  </tbody>\n</table>\n</div>"
     },
     "metadata": {},
     "execution_count": 26
    }
   ],
   "source": [
    "test_df.head()"
   ]
  },
  {
   "cell_type": "code",
   "execution_count": null,
   "metadata": {},
   "outputs": [],
   "source": []
  }
 ]
}