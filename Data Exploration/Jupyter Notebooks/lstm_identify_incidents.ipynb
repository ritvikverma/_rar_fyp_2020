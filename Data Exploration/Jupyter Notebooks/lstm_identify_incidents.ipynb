{
 "metadata": {
  "language_info": {
   "codemirror_mode": {
    "name": "ipython",
    "version": 3
   },
   "file_extension": ".py",
   "mimetype": "text/x-python",
   "name": "python",
   "nbconvert_exporter": "python",
   "pygments_lexer": "ipython3",
   "version": "3.9.1-final"
  },
  "orig_nbformat": 2,
  "kernelspec": {
   "name": "python3",
   "display_name": "Python 3.9.1 64-bit",
   "metadata": {
    "interpreter": {
     "hash": "edadba7c9df7856c95db1d15750a69a208e6cf3da11243f38bd86d8892c27fe4"
    }
   }
  }
 },
 "nbformat": 4,
 "nbformat_minor": 2,
 "cells": [
  {
   "cell_type": "code",
   "execution_count": 26,
   "metadata": {},
   "outputs": [],
   "source": [
    "import os\n",
    "import pandas as pd\n",
    "import json"
   ]
  },
  {
   "cell_type": "code",
   "execution_count": 27,
   "metadata": {},
   "outputs": [],
   "source": [
    "lstm_path = os.path.join(\"..\", \"..\", \"SICP\", \"lstm_only_test_result_mar11.csv\")\n",
    "incident_path = os.path.join(\"..\", \"..\", \"SICP\", \"incident\")\n",
    "lstm_training_list =  [\"05Dec19.csv\", \"19Dec19.csv\", \"29Dec19.csv\", \"27Nov19.csv\", \"25Nov19.csv\", \"03Dec19.csv\", \"09Dec19.csv\", \"04Nov19.csv\", \"16Nov19.csv.csv\", \"30Dec19.csv\", \"15Dec19.csv\", \"16Dec19.csv\", \"22Dec19.csv\", \"13Dec19.csv\", \"07Nov19.csv\", \"04Dec19.csv\", \"27Dec19.csv\", \"01Nov19.csv\", \"24Dec19.csv\", \"14Nov19.csv\", \"20Nov19.csv\", \"01Dec19.csv\", \"26Nov19.csv\", \"09Nov19.csv\", \"08Dec19.csv\", \"23Dec19.csv\", \"11Dec19.csv\", \"24Nov19.csv\", \"20Dec19.csv\", \"25Dec19.csv.csv\", \"17Dec19.csv\", \"19Nov19.csv\", \"15Nov19.csv\", \"07Dec19.csv\", \"11Nov19.csv\", \"18Dec19.csv\", \"23Nov19.csv\", \"14Dec19.csv\", \"28Dec19.csv\", \"29Nov19.csv\", \"18Nov19.csv\", \"08Nov19.csv\", \"10Nov19.csv\", \"06Nov19.csv\", \"02Nov19.csv\", \"06Dec19.csv\", \"10Dec19.csv\"]"
   ]
  },
  {
   "cell_type": "code",
   "execution_count": 119,
   "metadata": {},
   "outputs": [],
   "source": [
    "lstm_dataframe = pd.read_csv(lstm_path)"
   ]
  },
  {
   "cell_type": "code",
   "execution_count": 29,
   "metadata": {},
   "outputs": [
    {
     "output_type": "stream",
     "name": "stderr",
     "text": [
      "/Users/adwithyamagow/venv/fyp/lib/python3.9/site-packages/IPython/core/interactiveshell.py:3155: DtypeWarning: Columns (17,18) have mixed types.Specify dtype option on import or set low_memory=False.\n",
      "  has_raised = await self.run_ast_nodes(code_ast.body, cell_name,\n",
      "/Users/adwithyamagow/venv/fyp/lib/python3.9/site-packages/IPython/core/interactiveshell.py:3155: DtypeWarning: Columns (8,9,17,18) have mixed types.Specify dtype option on import or set low_memory=False.\n",
      "  has_raised = await self.run_ast_nodes(code_ast.body, cell_name,\n"
     ]
    }
   ],
   "source": [
    "incident_dataframe = pd.DataFrame()\n",
    "for csv_path in os.listdir(incident_path):\n",
    "    if csv_path in lstm_training_list:\n",
    "        full_csv_path = os.path.join(incident_path, csv_path)\n",
    "        dataframe = pd.read_csv(full_csv_path)\n",
    "        incident_dataframe = incident_dataframe.append(dataframe)"
   ]
  },
  {
   "cell_type": "code",
   "execution_count": 70,
   "metadata": {},
   "outputs": [
    {
     "output_type": "stream",
     "name": "stdout",
     "text": [
      "(102110, 23)\n(4081488, 22)\n\nIndex(['act_jour', 'time_remain', 'Sn', 'code', 'current_time', 'incident',\n       'old_index', 'train', 'ori', 'act_dep_time_ori', 'dst',\n       'act_arr_time_dst', 'act_jour.1', 'exp_jour', 'service_date',\n       'station_count', 'incident.1', 'journey', 'code.1', 'lstm_pred',\n       'lstm_mae', 'hour_in_day', 'day_in_week'],\n      dtype='object')\nIndex(['act_arr_time', 'station', 'track', 'train', 'act_dep_time',\n       'act_occupied_time', 'act_travelling_time', 'stop', 'arr_time',\n       'dep_time', 'arr_delay', 'dep_delay', 'incident',\n       'destination_code_train', 'timetable_code_train', 'number_train',\n       'quantile', 'fault_description', 'fault_classification', 'propagated',\n       'act_travelling_time_quantile', 'act_occupied_time_quantile'],\n      dtype='object')\nIndex(['train', 'incident'], dtype='object')\n"
     ]
    }
   ],
   "source": [
    "print(lstm_dataframe.shape)\n",
    "print(incident_dataframe.shape)\n",
    "print()\n",
    "print(lstm_dataframe.columns)\n",
    "print(incident_dataframe.columns)\n",
    "print(incident_dataframe.columns.intersection(lstm_dataframe.columns))"
   ]
  },
  {
   "cell_type": "code",
   "execution_count": 105,
   "metadata": {},
   "outputs": [],
   "source": [
    "lstm_dataframe_high_mae = lstm_dataframe[lstm_dataframe[\"lstm_mae\"] > 60.0]\n",
    "lstm_dataframe_high_mae = lstm_dataframe_high_mae.loc[~lstm_dataframe_high_mae.index.duplicated(keep='first')\n",
    "]\n",
    "lstm_dataframe_high_mae = lstm_dataframe_high_mae.rename(columns={\"ori\":\"station\"})\n",
    "lstm_dataframe_high_mae = lstm_dataframe_high_mae.drop(columns=[\"incident\", \"incident.1\"])\n",
    "\n",
    "incident_dataframe_incident = incident_dataframe[incident_dataframe[\"incident\"] == True]\n",
    "incident_dataframe_incident = incident_dataframe_incident.loc[~incident_dataframe_incident.index.duplicated(keep='first')]"
   ]
  },
  {
   "cell_type": "code",
   "execution_count": 106,
   "metadata": {},
   "outputs": [
    {
     "output_type": "stream",
     "name": "stdout",
     "text": [
      "(8944, 21)\n(3894, 22)\n\nIndex(['act_jour', 'time_remain', 'Sn', 'code', 'current_time', 'old_index',\n       'train', 'station', 'act_dep_time_ori', 'dst', 'act_arr_time_dst',\n       'act_jour.1', 'exp_jour', 'service_date', 'station_count', 'journey',\n       'code.1', 'lstm_pred', 'lstm_mae', 'hour_in_day', 'day_in_week'],\n      dtype='object')\nIndex(['act_arr_time', 'station', 'track', 'train', 'act_dep_time',\n       'act_occupied_time', 'act_travelling_time', 'stop', 'arr_time',\n       'dep_time', 'arr_delay', 'dep_delay', 'incident',\n       'destination_code_train', 'timetable_code_train', 'number_train',\n       'quantile', 'fault_description', 'fault_classification', 'propagated',\n       'act_travelling_time_quantile', 'act_occupied_time_quantile'],\n      dtype='object')\nIndex(['station', 'train'], dtype='object')\n"
     ]
    }
   ],
   "source": [
    "print(lstm_dataframe_high_mae.shape)\n",
    "print(incident_dataframe_incident.shape)\n",
    "print()\n",
    "print(lstm_dataframe_high_mae.columns)\n",
    "print(incident_dataframe_incident.columns)\n",
    "print(incident_dataframe.columns.intersection(lstm_dataframe_high_mae.columns))"
   ]
  },
  {
   "cell_type": "code",
   "execution_count": 107,
   "metadata": {},
   "outputs": [],
   "source": [
    "dataframe = pd.concat([lstm_dataframe_high_mae, incident_dataframe_incident], axis=1, join=\"inner\")"
   ]
  },
  {
   "cell_type": "code",
   "execution_count": 110,
   "metadata": {},
   "outputs": [
    {
     "output_type": "stream",
     "name": "stdout",
     "text": [
      "Index(['act_jour', 'time_remain', 'Sn', 'code', 'current_time', 'old_index',\n       'train', 'station', 'act_dep_time_ori', 'dst', 'act_arr_time_dst',\n       'act_jour.1', 'exp_jour', 'service_date', 'station_count', 'journey',\n       'code.1', 'lstm_pred', 'lstm_mae', 'hour_in_day', 'day_in_week',\n       'act_arr_time', 'station', 'track', 'train', 'act_dep_time',\n       'act_occupied_time', 'act_travelling_time', 'stop', 'arr_time',\n       'dep_time', 'arr_delay', 'dep_delay', 'incident',\n       'destination_code_train', 'timetable_code_train', 'number_train',\n       'quantile', 'fault_description', 'fault_classification', 'propagated',\n       'act_travelling_time_quantile', 'act_occupied_time_quantile'],\n      dtype='object')\n(321, 43)\n"
     ]
    }
   ],
   "source": [
    "print(dataframe.columns)\n",
    "print(dataframe.shape)"
   ]
  },
  {
   "cell_type": "code",
   "execution_count": 109,
   "metadata": {},
   "outputs": [],
   "source": [
    "with open(\"temp.csv\", \"w+\") as file:\n",
    "    file.write(filtered_dataframe.to_csv())"
   ]
  },
  {
   "cell_type": "code",
   "execution_count": 120,
   "metadata": {},
   "outputs": [],
   "source": [
    "lstm_dataframe = lstm_dataframe.loc[~lstm_dataframe.index.duplicated(keep='first')]\n",
    "incident_dataframe = incident_dataframe.loc[~incident_dataframe.index.duplicated(keep='first')]\n",
    "lstm_dataframe = lstm_dataframe.rename(columns={\"ori\":\"station\"})\n",
    "lstm_dataframe = lstm_dataframe.drop(columns=[\"incident\", \"incident.1\"])\n",
    "dataframe = pd.concat([lstm_dataframe, incident_dataframe], axis=1, join=\"inner\")"
   ]
  },
  {
   "cell_type": "code",
   "execution_count": 124,
   "metadata": {},
   "outputs": [],
   "source": [
    "dataframe_incident = dataframe[dataframe[\"incident\"] == True]\n",
    "dataframe_not_incident = dataframe[dataframe[\"incident\"] == False]"
   ]
  },
  {
   "cell_type": "code",
   "execution_count": 126,
   "metadata": {},
   "outputs": [
    {
     "output_type": "stream",
     "name": "stdout",
     "text": [
      "25.20825899564303\n24.270217426899\n"
     ]
    }
   ],
   "source": [
    "print(dataframe_incident[\"lstm_mae\"].mean())\n",
    "print(dataframe_not_incident[\"lstm_mae\"].mean())"
   ]
  },
  {
   "cell_type": "code",
   "execution_count": null,
   "metadata": {},
   "outputs": [],
   "source": []
  }
 ]
}